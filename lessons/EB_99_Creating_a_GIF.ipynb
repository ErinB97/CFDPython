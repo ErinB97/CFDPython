{
 "cells": [
  {
   "cell_type": "markdown",
   "metadata": {},
   "source": [
    "# Creating a GIF of 2D Burgers\n",
    "\n",
    "This is a creating a GIF using \n",
    "https://towardsdatascience.com/how-to-create-a-gif-from-matplotlib-plots-in-python-6bec6c0c952c"
   ]
  },
  {
   "cell_type": "code",
   "execution_count": 4,
   "metadata": {},
   "outputs": [],
   "source": [
    "import numpy\n",
    "import imageio\n",
    "from matplotlib import pyplot, cm\n",
    "from mpl_toolkits.mplot3d import Axes3D\n",
    "%matplotlib inline"
   ]
  },
  {
   "cell_type": "markdown",
   "metadata": {},
   "source": [
    "## Create Function for Burgers' equation:\n",
    "PDE's:\n",
    "$$\n",
    "\\frac{\\partial u}{\\partial t} + u \\frac{\\partial u}{\\partial x} + v \\frac{\\partial u}{\\partial y} = \\nu \\; \\left(\\frac{\\partial ^2 u}{\\partial x^2} + \\frac{\\partial ^2 u}{\\partial y^2}\\right)$$\n",
    "\n",
    "$$\n",
    "\\frac{\\partial v}{\\partial t} + u \\frac{\\partial v}{\\partial x} + v \\frac{\\partial v}{\\partial y} = \\nu \\; \\left(\\frac{\\partial ^2 v}{\\partial x^2} + \\frac{\\partial ^2 v}{\\partial y^2}\\right)$$\n",
    "\n",
    "Discretized:\n",
    "$$\n",
    "\\begin{split}\n",
    "u_{i,j}^{n+1} = & u_{i,j}^n - \\frac{\\Delta t}{\\Delta x} u_{i,j}^n (u_{i,j}^n - u_{i-1,j}^n)  - \\frac{\\Delta t}{\\Delta y} v_{i,j}^n (u_{i,j}^n - u_{i,j-1}^n) \n",
    "&+ \\frac{\\nu \\Delta t}{\\Delta x^2}(u_{i+1,j}^n-2u_{i,j}^n+u_{i-1,j}^n) + \\frac{\\nu \\Delta t}{\\Delta y^2} (u_{i,j+1}^n - 2u_{i,j}^n + u_{i,j-1}^n)\n",
    "\\end{split}\n",
    "$$\n",
    "$$\n",
    "\\begin{split}\n",
    "v_{i,j}^{n+1} = & v_{i,j}^n - \\frac{\\Delta t}{\\Delta x} u_{i,j}^n (v_{i,j}^n - v_{i-1,j}^n) - \\frac{\\Delta t}{\\Delta y} v_{i,j}^n (v_{i,j}^n - v_{i,j-1}^n) \n",
    "&+ \\frac{\\nu \\Delta t}{\\Delta x^2}(v_{i+1,j}^n-2v_{i,j}^n+v_{i-1,j}^n) + \\frac{\\nu \\Delta t}{\\Delta y^2} (v_{i,j+1}^n - 2v_{i,j}^n + v_{i,j-1}^n)\n",
    "\\end{split}\n",
    "$$"
   ]
  },
  {
   "cell_type": "code",
   "execution_count": 28,
   "metadata": {},
   "outputs": [],
   "source": [
    "# declare static variables\n",
    "nx = 41\n",
    "ny = 41\n",
    "c = 1\n",
    "dx = 2 / (nx - 1)\n",
    "dy = 2 / (ny - 1)\n",
    "sigma = .0009\n",
    "nu = 0.01\n",
    "dt = sigma * dx * dy / nu\n",
    "x = numpy.linspace(0, 2, nx)\n",
    "y = numpy.linspace(0, 2, ny)"
   ]
  },
  {
   "cell_type": "code",
   "execution_count": 34,
   "metadata": {},
   "outputs": [],
   "source": [
    "def burgers(nt):\n",
    "    ### Assign hat function initial conditions\n",
    "   \n",
    "    u = numpy.ones((ny,nx))\n",
    "    v = numpy.ones((ny,nx)) \n",
    "    un = numpy.ones((ny,nx))\n",
    "    vn = numpy.ones((ny,nx))\n",
    "    u[int(0.5/dy):int(1/dy+1) , int(0.5/dx):int(1/dx+1)] = 2\n",
    "    v[int(0.5/dy):int(1/dy+1) , int(0.5/dx):int(1/dx+1)] = 2\n",
    "    \n",
    "    for n in range(nt + 1): ##loop across number of time steps\n",
    "        un = u.copy()\n",
    "        vn = v.copy()\n",
    "\n",
    "        u[1:-1, 1:-1] = (un[1:-1, 1:-1] -\n",
    "                         dt / dx * un[1:-1, 1:-1] * \n",
    "                         (un[1:-1, 1:-1] - un[1:-1, 0:-2]) - \n",
    "                         dt / dy * vn[1:-1, 1:-1] * \n",
    "                         (un[1:-1, 1:-1] - un[0:-2, 1:-1]) + \n",
    "                         nu * dt / dx**2 * \n",
    "                         (un[1:-1,2:] - 2 * un[1:-1, 1:-1] + un[1:-1, 0:-2]) + \n",
    "                         nu * dt / dy**2 * \n",
    "                         (un[2:, 1:-1] - 2 * un[1:-1, 1:-1] + un[0:-2, 1:-1]))\n",
    "\n",
    "        v[1:-1, 1:-1] = (vn[1:-1, 1:-1] - \n",
    "                         dt / dx * un[1:-1, 1:-1] *\n",
    "                         (vn[1:-1, 1:-1] - vn[1:-1, 0:-2]) -\n",
    "                         dt / dy * vn[1:-1, 1:-1] * \n",
    "                        (vn[1:-1, 1:-1] - vn[0:-2, 1:-1]) + \n",
    "                         nu * dt / dx**2 * \n",
    "                         (vn[1:-1, 2:] - 2 * vn[1:-1, 1:-1] + vn[1:-1, 0:-2]) +\n",
    "                         nu * dt / dy**2 *\n",
    "                         (vn[2:, 1:-1] - 2 * vn[1:-1, 1:-1] + vn[0:-2, 1:-1]))\n",
    "\n",
    "        u[0, :] = 1\n",
    "        u[-1, :] = 1\n",
    "        u[:, 0] = 1\n",
    "        u[:, -1] = 1\n",
    "\n",
    "        v[0, :] = 1\n",
    "        v[-1, :] = 1\n",
    "        v[:, 0] = 1\n",
    "        v[:, -1] = 1\n",
    "        \n",
    "    ## create GIF frame\n",
    "    \n",
    "    #create frame\n",
    "    fig = pyplot.figure(figsize=(11, 7), dpi=100)\n",
    "    ax = fig.gca(projection='3d')\n",
    "    X, Y = numpy.meshgrid(x, y)\n",
    "    ax.plot_surface(X, Y, u, cmap=cm.viridis, rstride=1, cstride=1)\n",
    "    ax.plot_surface(X, Y, v, cmap=cm.viridis, rstride=1, cstride=1)\n",
    "    ax.set_zlim(1,2.5)\n",
    "    ax.set_xlabel('$x$')\n",
    "    ax.set_ylabel('$y$')\n",
    "    pyplot.title(\"2D Burgers's equation with hat function\")\n",
    "    #save frame\n",
    "    pyplot.savefig(f'./img/img_{nt}.png', transparent = False, facecolor = 'white')\n",
    "    pyplot.close()"
   ]
  },
  {
   "cell_type": "markdown",
   "metadata": {},
   "source": [
    "## Creating the frames\n",
    "\n",
    "I will be wanting my model to run for 3000 time steps, but I do not wish to have 3000 frames for my GIF as this would make it a big file! Therefore I will create a series of time steps I want to iterate through."
   ]
  },
  {
   "cell_type": "code",
   "execution_count": 31,
   "metadata": {},
   "outputs": [
    {
     "name": "stdout",
     "output_type": "stream",
     "text": [
      "[   0.   50.  100.  150.  200.  250.  300.  350.  400.  450.  500.  550.\n",
      "  600.  650.  700.  750.  800.  850.  900.  950. 1000. 1050. 1100. 1150.\n",
      " 1200. 1250. 1300. 1350. 1400. 1450. 1500. 1550. 1600. 1650. 1700. 1750.\n",
      " 1800. 1850. 1900. 1950. 2000. 2050. 2100. 2150. 2200. 2250. 2300. 2350.\n",
      " 2400. 2450. 2500. 2550. 2600. 2650. 2700. 2750. 2800. 2850. 2900. 2950.\n",
      " 3000.]\n"
     ]
    },
    {
     "name": "stderr",
     "output_type": "stream",
     "text": [
      "C:\\Users\\gbake\\AppData\\Local\\Continuum\\anaconda3\\lib\\site-packages\\ipykernel_launcher.py:1: DeprecationWarning: object of type <class 'float'> cannot be safely interpreted as an integer.\n",
      "  \"\"\"Entry point for launching an IPython kernel.\n"
     ]
    }
   ],
   "source": [
    "time = (numpy.linspace(0,3000,(3000/50)+1))\n",
    "print(time)"
   ]
  },
  {
   "cell_type": "code",
   "execution_count": 35,
   "metadata": {},
   "outputs": [],
   "source": [
    "for list_t in time:\n",
    "    nt = int(list_t) # burgers function expects nt as an int\n",
    "    burgers(nt)"
   ]
  },
  {
   "cell_type": "code",
   "execution_count": 37,
   "metadata": {},
   "outputs": [],
   "source": [
    "frames = []\n",
    "for t in time:\n",
    "    t = int(t)\n",
    "    image = imageio.imread(f'./img/img_{t}.png')\n",
    "    frames.append(image)"
   ]
  },
  {
   "cell_type": "code",
   "execution_count": 38,
   "metadata": {},
   "outputs": [],
   "source": [
    "imageio.mimsave('./burgers_2d.gif', # output gif\n",
    "                frames,          # array of input frames\n",
    "                fps = 20)         # optional: frames per second"
   ]
  }
 ],
 "metadata": {
  "kernelspec": {
   "display_name": "Python 3",
   "language": "python",
   "name": "python3"
  },
  "language_info": {
   "codemirror_mode": {
    "name": "ipython",
    "version": 3
   },
   "file_extension": ".py",
   "mimetype": "text/x-python",
   "name": "python",
   "nbconvert_exporter": "python",
   "pygments_lexer": "ipython3",
   "version": "3.7.4"
  }
 },
 "nbformat": 4,
 "nbformat_minor": 4
}
