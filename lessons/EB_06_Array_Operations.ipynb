{
 "cells": [
  {
   "cell_type": "markdown",
   "metadata": {},
   "source": [
    "# EB Part 06: Array Operations with NumPy"
   ]
  },
  {
   "cell_type": "markdown",
   "metadata": {},
   "source": [
    "$$u^{n+1}_i = u^n_i-u^n_{i-1}$$\n",
    "\n",
    "Now, given a vector $u^n = [0, 1, 2, 3, 4, 5]\\ \\ $   we can calculate the values of $u^{n+1}$ by iterating over the values of $u^n$ with a for loop."
   ]
  },
  {
   "cell_type": "code",
   "execution_count": 1,
   "metadata": {},
   "outputs": [],
   "source": [
    "import numpy"
   ]
  },
  {
   "cell_type": "code",
   "execution_count": 2,
   "metadata": {},
   "outputs": [
    {
     "name": "stdout",
     "output_type": "stream",
     "text": [
      "1\n",
      "1\n",
      "1\n",
      "1\n",
      "1\n"
     ]
    }
   ],
   "source": [
    "u = numpy.array((0 ,1 ,2, 3, 4, 5))\n",
    "\n",
    "for i in range(1,len(u)):\n",
    "    print(u[i] - u[i-1])"
   ]
  },
  {
   "cell_type": "markdown",
   "metadata": {},
   "source": [
    "In this step all we have done is subtracted i-1 from i iteratively. But if we thought of this as a matrix, we could just subtract one vector from another..."
   ]
  },
  {
   "cell_type": "code",
   "execution_count": 3,
   "metadata": {},
   "outputs": [
    {
     "data": {
      "text/plain": [
       "array([1, 1, 1, 1, 1])"
      ]
     },
     "execution_count": 3,
     "metadata": {},
     "output_type": "execute_result"
    }
   ],
   "source": [
    "# (2nd entry : end) - (1st entry : end -1)\n",
    "u[1:] - u[0:-1]"
   ]
  },
  {
   "cell_type": "markdown",
   "metadata": {},
   "source": [
    "Computational gains are limited for a simple operation. But applied to more complex problems such as 2D linear convection the results are more pertinent."
   ]
  },
  {
   "cell_type": "code",
   "execution_count": 6,
   "metadata": {},
   "outputs": [],
   "source": [
    "nx = 81\n",
    "ny = 81\n",
    "nt = 100\n",
    "c = 1\n",
    "dx = 2 / (nx - 1)\n",
    "dy = 2 / (ny -1)\n",
    "sigma = .2\n",
    "dt = sigma * dx\n",
    "\n",
    "x = numpy.linspace(0,2,nx)\n",
    "y = numpy.linspace(0,2,nx)\n",
    "\n",
    "u = numpy.ones((ny,nx)) #create a 1 x n vector of 1's for u(n) and u(n+1)\n",
    "un = numpy.ones((ny,nx))\n",
    "\n",
    "### Assign initial conditions of 2\n",
    "u[int(.5/dy):int(1/dy+1), int(0.5/dx):int(1/dx+1)] = 2"
   ]
  },
  {
   "cell_type": "markdown",
   "metadata": {},
   "source": [
    "Now use the `%%timeit` function to see how long the nested loop method takes to execute..."
   ]
  },
  {
   "cell_type": "code",
   "execution_count": 9,
   "metadata": {},
   "outputs": [
    {
     "name": "stdout",
     "output_type": "stream",
     "text": [
      "3.1 s ± 113 ms per loop (mean ± std. dev. of 7 runs, 1 loop each)\n"
     ]
    }
   ],
   "source": [
    "%%timeit\n",
    "u = numpy.ones((ny, nx))\n",
    "u[int(.5 / dy): int(1 / dy + 1), int(.5 / dx):int(1 / dx + 1)] = 2\n",
    "\n",
    "for n in range(nt+1):\n",
    "    un = u.copy()\n",
    "    row, col = u.shape # returns the dimensions of u[] and we are using these as our counts =ny,nx\n",
    "    for j in range(1,row):\n",
    "        for i in range(1,col):\n",
    "            u[j,i] = (un[j,i] - (c*dt/dx * (un[j,i] - un[j,i-1])) - (c*dt/dy *(un[j,i] - un[j-1,i])) )\n",
    "            \n",
    "            u[0, :] = 1\n",
    "            u[-1,:] = 1\n",
    "            u[:, 0] = 1\n",
    "            u[:,-1] = 1"
   ]
  },
  {
   "cell_type": "code",
   "execution_count": 10,
   "metadata": {},
   "outputs": [
    {
     "name": "stdout",
     "output_type": "stream",
     "text": [
      "4.66 ms ± 396 µs per loop (mean ± std. dev. of 7 runs, 100 loops each)\n"
     ]
    }
   ],
   "source": [
    "%%timeit\n",
    "# now with array operations\n",
    "u = numpy.ones((ny,nx))\n",
    "u[int(.5 / dy): int(1 / dy + 1), int(.5 / dx):int(1 / dx + 1)] = 2\n",
    "\n",
    "for n in range(nt+1):\n",
    "    un = u.copy()\n",
    "    u[1:, 1:] = (un[1:,1:] - (c*dt/dx* (un[1:,1:] - un[1:,0:-1])) - (c*dt/dy* (un[1:,1:] - un[0:-1,1:])))\n",
    "    \n",
    "    u[0, :] = 1\n",
    "    u[-1, :] = 1\n",
    "    u[:, 0] = 1\n",
    "    u[:, -1] = 1"
   ]
  },
  {
   "cell_type": "markdown",
   "metadata": {},
   "source": [
    "The time has changes from *3.1 s* per loop to *4.66 ms* per loop by using array slicing! A significant performance improvement!"
   ]
  }
 ],
 "metadata": {
  "kernelspec": {
   "display_name": "Python 3",
   "language": "python",
   "name": "python3"
  },
  "language_info": {
   "codemirror_mode": {
    "name": "ipython",
    "version": 3
   },
   "file_extension": ".py",
   "mimetype": "text/x-python",
   "name": "python",
   "nbconvert_exporter": "python",
   "pygments_lexer": "ipython3",
   "version": "3.7.4"
  }
 },
 "nbformat": 4,
 "nbformat_minor": 4
}
