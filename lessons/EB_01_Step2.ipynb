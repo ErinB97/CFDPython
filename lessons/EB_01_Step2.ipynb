{
 "cells": [
  {
   "cell_type": "markdown",
   "metadata": {},
   "source": [
    "# EB Step 2: Nonlinear Convection\n",
    "15/01/23\n",
    "\n",
    "Non-linear 1D convection equation:\n",
    "$$\\frac{\\partial u}{\\partial t} + u \\frac{\\partial u}{\\partial x} = 0$$\n",
    "Apply Eulers: \n",
    "$$\\frac{u_i^{n+1}-u_i^n}{\\Delta t} + u_i^n \\frac{u_i^n-u_{i-1}^n}{\\Delta x} = 0$$\n",
    "Solving for $u_i^{n+1}$:\n",
    "$$u_i^{n+1} = u_i^n - u_i^n \\frac{\\Delta t}{\\Delta x} (u_i^n - u_{i-1}^n)$$"
   ]
  },
  {
   "cell_type": "code",
   "execution_count": 1,
   "metadata": {},
   "outputs": [],
   "source": [
    "#import libraries\n",
    "import numpy\n",
    "from matplotlib import pyplot\n",
    "%matplotlib inline"
   ]
  },
  {
   "cell_type": "code",
   "execution_count": 2,
   "metadata": {},
   "outputs": [],
   "source": [
    "#model I.Cs and B.Cs\n",
    "\n",
    "nx = 41\n",
    "dx = 2 / (nx -1)\n",
    "nt = 20\n",
    "dt = 0.025\n",
    "\n",
    "u = numpy.ones(nx) #create a space array of ones\n",
    "u[int(0.5 / dx) : int(1/ dx + 1)] = 2 #setting a hat function of u = 2 from x = 0.5 to x = 1\n",
    "\n",
    "un = numpy.ones(nx) #create a placeholder array for un values from time step solution"
   ]
  },
  {
   "cell_type": "code",
   "execution_count": 5,
   "metadata": {},
   "outputs": [
    {
     "data": {
      "text/plain": [
       "[<matplotlib.lines.Line2D at 0x274452543c8>]"
      ]
     },
     "execution_count": 5,
     "metadata": {},
     "output_type": "execute_result"
    },
    {
     "data": {
      "image/png": "[encoded data removed]",
      "text/plain": [
       "<Figure size 432x288 with 1 Axes>"
      ]
     },
     "metadata": {
      "needs_background": "light"
     },
     "output_type": "display_data"
    }
   ],
   "source": [
    "# solve the non-linear 1D convection equation\n",
    "\n",
    "for n in range(nt):\n",
    "    un = u.copy() #copy the current values of u into un for iteration, meaning u becomes @n+1 and un is @n\n",
    "    for i in range(1,nx):\n",
    "        u[i] = un[i] - un[i]*(dt/dx)*(un[i]-un[i-1])\n",
    "\n",
    "pyplot.plot(numpy.linspace(0,2,nx),u) #plot the results"
   ]
  }
 ],
 "metadata": {
  "kernelspec": {
   "display_name": "Python 3",
   "language": "python",
   "name": "python3"
  },
  "language_info": {
   "codemirror_mode": {
    "name": "ipython",
    "version": 3
   },
   "file_extension": ".py",
   "mimetype": "text/x-python",
   "name": "python",
   "nbconvert_exporter": "python",
   "pygments_lexer": "ipython3",
   "version": "3.7.4"
  }
 },
 "nbformat": 4,
 "nbformat_minor": 4
}
