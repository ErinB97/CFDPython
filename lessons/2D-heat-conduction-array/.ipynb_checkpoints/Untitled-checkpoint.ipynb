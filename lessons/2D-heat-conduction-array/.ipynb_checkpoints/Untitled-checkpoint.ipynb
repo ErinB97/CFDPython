{
 "cells": [
  {
   "cell_type": "markdown",
   "metadata": {},
   "source": [
    "# Nested loops vs. Array slicing for 2D heat conduction\n",
    "\n",
    "Recently I have been working through the [12 Steps to Navier-Stokes](https://github.com/barbagroup/CFDPython) by Prof. Lorena Barba to learn about CFD and Navier-Stokes using Python. Array operations are introduced as a time saving method of performing iterative calculations halfway through the course.\n",
    "\n",
    "Three years ago I wrote a Python script to model [2D heat conduction](https://github.com/ErinB97/ThermalConduction2D) with a users choice of materials and boundary conditions which they could 'paint' onto the modeled system using a spreadsheet which would then be imported.\n",
    "\n",
    "With what I have been learning on the Navier-Stokes python lessons, my project code was very inefficient in terms of both memory usage and calculation executions. By storing the calculated result of each time step into memory, the execution slows down having to call every point of data for calculating each time step even if the vast majority of that data goes unused in the calculation. Also, my old code used nested loops to perform backwards difference calculations requiring each mesh point to be calculated individually, further slowing down the computation.\n",
    "\n",
    "Therefore three methods will be timed and compared to demonstrate the imrovements which can be made to my code.\n",
    "\n",
    "1. Nested loops with each time index stored in memory *i.e. the original code* \n",
    "2. Nested loops with only present and next time index stored in memory\n",
    "3. Array slicing with present and next time index stored in memory"
   ]
  },
  {
   "cell_type": "markdown",
   "metadata": {},
   "source": [
    "\n"
   ]
  }
 ],
 "metadata": {
  "kernelspec": {
   "display_name": "Python 3",
   "language": "python",
   "name": "python3"
  },
  "language_info": {
   "codemirror_mode": {
    "name": "ipython",
    "version": 3
   },
   "file_extension": ".py",
   "mimetype": "text/x-python",
   "name": "python",
   "nbconvert_exporter": "python",
   "pygments_lexer": "ipython3",
   "version": "3.7.4"
  }
 },
 "nbformat": 4,
 "nbformat_minor": 4
}
